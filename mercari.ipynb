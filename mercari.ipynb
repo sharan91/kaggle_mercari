{
  "cells": [
    {
      "metadata": {
        "_cell_guid": "17c5d7ef-6e5b-4671-9766-c8a8631665d2",
        "_uuid": "45ab9bd9708593259d26de31d8667b202e5b0be8",
        "trusted": true
      },
      "cell_type": "code",
      "source": "# This Python 3 environment comes with many helpful analytics libraries installed\n# It is defined by the kaggle/python docker image: https://github.com/kaggle/docker-python\n# For example, here's several helpful packages to load in \n\nimport numpy as np # linear algebra\nimport pandas as pd # data processing, CSV file I/O (e.g. pd.read_csv)\nimport scipy\nfrom sklearn.feature_extraction.text import CountVectorizer, TfidfVectorizer\nfrom sklearn.preprocessing import LabelBinarizer\nfrom sklearn.model_selection import KFold\nfrom sklearn.linear_model import Ridge, Lasso\nfrom sklearn.metrics import mean_squared_log_error\nfrom sklearn.grid_search import GridSearchCV\nimport xgboost as xgb\nimport lightgbm as lgb\n\n# Input data files are available in the \"../input/\" directory.\n# For example, running this (by clicking run or pressing Shift+Enter) will list the files in the input directory\n\nfrom subprocess import check_output\nprint(check_output([\"ls\", \"../input\"]).decode(\"utf8\"))\n\n# Any results you write to the current directory are saved as output.",
      "execution_count": 1,
      "outputs": [
        {
          "output_type": "stream",
          "text": "sample_submission.csv\ntest.tsv\ntrain.tsv\n\n",
          "name": "stdout"
        },
        {
          "output_type": "stream",
          "text": "/opt/conda/lib/python3.6/site-packages/sklearn/cross_validation.py:41: DeprecationWarning: This module was deprecated in version 0.18 in favor of the model_selection module into which all the refactored classes and functions are moved. Also note that the interface of the new CV iterators are different from that of this module. This module will be removed in 0.20.\n  \"This module will be removed in 0.20.\", DeprecationWarning)\n/opt/conda/lib/python3.6/site-packages/sklearn/grid_search.py:42: DeprecationWarning: This module was deprecated in version 0.18 in favor of the model_selection module into which all the refactored classes and functions are moved. This module will be removed in 0.20.\n  DeprecationWarning)\n",
          "name": "stderr"
        }
      ]
    },
    {
      "metadata": {
        "_cell_guid": "c0c28569-e267-46cf-a00c-6412351f5475",
        "_uuid": "ffc1e41159f97c2fbb01db033005e483b0ed2653",
        "collapsed": true,
        "trusted": true
      },
      "cell_type": "code",
      "source": "df_train = pd.read_table('../input/train.tsv')\ndf_test = pd.read_table('../input/test.tsv')",
      "execution_count": 2,
      "outputs": []
    },
    {
      "metadata": {
        "_cell_guid": "a850f793-1a7d-4fdb-b94c-3cb35a713e5f",
        "_uuid": "3278c01c46a58ea28791e2af5fe04e57d4d2abac",
        "collapsed": true,
        "trusted": true
      },
      "cell_type": "code",
      "source": "#params\nNUM_BRANDS = 2000\nNUM_CAT = 1000\nMAX_FEAT = 3",
      "execution_count": 3,
      "outputs": []
    },
    {
      "metadata": {
        "_cell_guid": "d13878c5-30ec-40be-a188-0d81f9c49ca2",
        "_uuid": "e2cbf859678821f6af7db2ef695fd25e0908cf03",
        "collapsed": true,
        "trusted": true
      },
      "cell_type": "code",
      "source": "df = pd.concat([df_train, df_test], 0)\nnrow_train = df_train.shape[0]\ny_train = np.log1p(df_train[\"price\"])\n\ndel df_train\n\ndf[\"category_name\"] = df[\"category_name\"].fillna(\"Other\")\ndf[\"brand_name\"] = df[\"brand_name\"].fillna(\"unknown\")\n\npop_brands = df[\"brand_name\"].value_counts().loc[lambda x: x.index != 'unknown'].index[:NUM_BRANDS]\ndf.loc[~df[\"brand_name\"].isin(pop_brands), \"brand_name\"] = \"Other\"\n\npop_cat = df['category_name'].value_counts().loc[lambda x: x.index != 'Other'].index[:NUM_CAT]\ndf.loc[~df['category_name'].isin(pop_cat), 'category_name'] = 'Other'\n\ndf[\"item_description\"] = df[\"item_description\"].fillna(\"None\")\ndf[\"item_condition_id\"] = df[\"item_condition_id\"].astype(\"category\")\ndf[\"brand_name\"] = df[\"brand_name\"].astype(\"category\")\ndf[\"category_name\"] = df[\"category_name\"].astype(\"category\")",
      "execution_count": 4,
      "outputs": []
    },
    {
      "metadata": {
        "_cell_guid": "e42abbef-0ec3-4431-b7ac-5b0f5911e4bd",
        "_uuid": "cfdce4604e64d32365e5ed2d438a7ab0c40255c3",
        "collapsed": true,
        "trusted": true
      },
      "cell_type": "code",
      "source": "#df.head()",
      "execution_count": 5,
      "outputs": []
    },
    {
      "metadata": {
        "_cell_guid": "e72972f9-3b5c-4dbe-805f-d97e70580b8c",
        "_uuid": "247c814f095ef0506d3ac7f4b9333aba8465ceb0",
        "collapsed": true,
        "trusted": true
      },
      "cell_type": "code",
      "source": "#transformations\ncount = CountVectorizer(min_df=10)\nnames = count.fit_transform(df[\"name\"])\n\ncount_cat = CountVectorizer()\ncat = count_cat.fit_transform(df[\"category_name\"])\n\ndesc_tfidf = TfidfVectorizer(max_features = MAX_FEAT, \n                              ngram_range = (1,3),\n                              token_pattern=r'\\b\\w+\\b',\n                              stop_words = \"english\")\ndesc = desc_tfidf.fit_transform(df[\"item_description\"])\n\nbrand_bin = LabelBinarizer(sparse_output=True)\nbrand = brand_bin.fit_transform(df[\"brand_name\"])\n\ndummies = scipy.sparse.csr_matrix(pd.get_dummies(df[[\"item_condition_id\", \"shipping\"]], sparse = True).values)\n\n\nX = scipy.sparse.hstack((dummies, \n                         brand,\n                         desc,\n                         cat,\n                         names)).tocsr()",
      "execution_count": 6,
      "outputs": []
    },
    {
      "metadata": {
        "_cell_guid": "b5095a44-02a3-4266-9fd7-63c557dcbe3d",
        "_uuid": "2f690ef6bd1a6d269da20d5383a0f54ddaff5c7f",
        "collapsed": true,
        "trusted": true
      },
      "cell_type": "code",
      "source": "X_train = X[:nrow_train]\nX_test = X[nrow_train:]",
      "execution_count": 7,
      "outputs": []
    },
    {
      "metadata": {
        "_cell_guid": "fa0bfd3e-4771-45c5-922c-df17a4f42e7b",
        "_uuid": "de397f27e34461d464c6ee383066af6af29dd4d5",
        "collapsed": true,
        "trusted": true
      },
      "cell_type": "code",
      "source": "def get_rmsle(y_true, y_pred):\n    return np.sqrt(mean_squared_log_error(np.expm1(y_true), np.expm1(y_pred)))",
      "execution_count": 8,
      "outputs": []
    },
    {
      "metadata": {
        "_cell_guid": "25e85f89-aeb2-4094-af74-f9efa44d0f4c",
        "_uuid": "47f6e3c8f6b21125faca4481bd66c91513eaf7de",
        "collapsed": true,
        "trusted": false
      },
      "cell_type": "code",
      "source": "# #3 fold CV ridge\n# results = []\n# #alphas = [0.5, 1, 1.5]\n# alphas = [1]\n# cv = KFold(n_splits=3, shuffle=True, random_state=42)\n# for a in alphas:\n#     a_results = []\n#     for train_ids, valid_ids in cv.split(X_train):\n#         model = Ridge(\n#             solver='auto',\n#             fit_intercept=True,\n#             alpha=a,\n#             max_iter=100,\n#             normalize=False,\n#             tol=0.05)\n#         model.fit(X_train[train_ids], y_train[train_ids])\n#         y_pred_valid = model.predict(X_train[valid_ids])\n#         rmsle = get_rmsle(y_pred_valid, y_train[valid_ids])\n#         a_results.append(rmsle)\n#     results.append(np.mean(a_results))\n#     print('alpha is: %f, rmsle: %f' % (a, np.mean(a_results)))\n# #Best alpha is 1, best rmsle is 0.467923",
      "execution_count": null,
      "outputs": []
    },
    {
      "metadata": {
        "_cell_guid": "2d8ffdac-4f47-4d32-8dfe-69e14aaad58c",
        "_uuid": "a1650a42b631ff9de10b54beec6419929c1be170",
        "collapsed": true,
        "trusted": false
      },
      "cell_type": "code",
      "source": "# #lgbm cv\n# results = []\n# lrs = [.75,.6,.5]\n# cv = KFold(n_splits=3, shuffle=True, random_state=42)\n# for lr in lrs:\n#     a_results = []\n#     for train_ids, valid_ids in cv.split(X_train):\n#         d_train = lgb.Dataset(X_train[train_ids], label=y_train[train_ids])\n#         params = {\n#             'learning_rate': lr,\n#             'application': 'regression',\n#             'max_depth': 3,\n#             'num_leaves': 100,\n#             'verbosity': -1,\n#             'metric': 'RMSE',\n#         }\n#         model = lgb.train(params, train_set=d_train, num_boost_round=3200, verbose_eval=100)\n#         y_pred_valid = model.predict(X_train[valid_ids])\n#         rmsle = get_rmsle(y_pred_valid, y_train[valid_ids])\n#         a_results.append(rmsle)\n#     results.append(np.mean(a_results))\n#     print('lr is: %f, rmsle: %f' % (lr, np.mean(a_results)))",
      "execution_count": null,
      "outputs": []
    },
    {
      "metadata": {
        "_cell_guid": "316cc6cf-eba9-451f-bb49-a22382155a01",
        "_uuid": "13802ffdfc39afe09904e52ef23966088cb36350",
        "collapsed": true,
        "trusted": true
      },
      "cell_type": "code",
      "source": "#submission\n#ridge\nmodel_r = Ridge(\n    solver='auto',\n    fit_intercept=True,\n    alpha=1,\n    max_iter=100,\n    normalize=False,\n    tol=0.05)\nmodel_r.fit(X_train, y_train)\npreds_r = model_r.predict(X_test)",
      "execution_count": 10,
      "outputs": []
    },
    {
      "metadata": {
        "_cell_guid": "d47dd79e-3dac-4900-b872-71331f4211c7",
        "_uuid": "e26e571d69f395e48058eabf50cc8c41c818c426",
        "collapsed": true,
        "trusted": true
      },
      "cell_type": "code",
      "source": "#lgbm\nd_train = lgb.Dataset(X_train, label=y_train)\nparams = {\n    'learning_rate': .75,\n    'application': 'regression',\n    'max_depth': 3,\n    'num_leaves': 100,\n    'verbosity': -1,\n    'metric': 'RMSE',\n}\nmodel_lg = lgb.train(params, train_set=d_train, num_boost_round=3200, verbose_eval=100)\npreds_lg = model_lg.predict(X_test)",
      "execution_count": null,
      "outputs": []
    },
    {
      "metadata": {
        "trusted": true,
        "collapsed": true,
        "_uuid": "fa221bb1ec51908c667055ebf122e4ac9c7d20dd"
      },
      "cell_type": "code",
      "source": "#weights\nridge_weight = .4\nlgbm_weight = .6\npreds = ridge_weight*preds_r + lgbm_weight*preds_lg\npreds = np.expm1(preds)",
      "execution_count": null,
      "outputs": []
    },
    {
      "metadata": {
        "_cell_guid": "97a8d824-1a25-4697-b97e-3f44dcba35e9",
        "_uuid": "f5ad210764e81e1a9f2cd239b6bade94b29fcd48",
        "collapsed": true,
        "trusted": false
      },
      "cell_type": "code",
      "source": "out = pd.DataFrame({'test_id':df_test.test_id,'price':preds})\nout.to_csv('preds.csv', index=False)",
      "execution_count": null,
      "outputs": []
    }
  ],
  "metadata": {
    "language_info": {
      "name": "python",
      "version": "3.6.4",
      "mimetype": "text/x-python",
      "codemirror_mode": {
        "name": "ipython",
        "version": 3
      },
      "pygments_lexer": "ipython3",
      "nbconvert_exporter": "python",
      "file_extension": ".py"
    },
    "kernelspec": {
      "display_name": "Python 3",
      "language": "python",
      "name": "python3"
    }
  },
  "nbformat": 4,
  "nbformat_minor": 1
}