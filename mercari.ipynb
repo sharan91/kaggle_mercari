{
  "cells": [
    {
      "metadata": {
        "_uuid": "45ab9bd9708593259d26de31d8667b202e5b0be8",
        "_cell_guid": "17c5d7ef-6e5b-4671-9766-c8a8631665d2",
        "collapsed": true,
        "trusted": false
      },
      "cell_type": "code",
      "source": "import gc\nimport time\nfrom time import gmtime, strftime\nimport numpy as np\nimport pandas as pd\nimport scipy\nfrom sklearn.feature_extraction.text import CountVectorizer, TfidfVectorizer\nfrom sklearn.preprocessing import LabelBinarizer\nfrom sklearn.model_selection import KFold\nfrom sklearn.linear_model import Ridge\nfrom sklearn.metrics import mean_squared_log_error\nimport lightgbm as lgb\nimport gensim\nimport nltk\nimport wordbatch\n\nfrom wordbatch.extractors import WordBag, WordHash\nfrom wordbatch.models import FTRL, FM_FTRL\n\nfrom nltk.corpus import stopwords\nimport re\n\nfrom subprocess import check_output\nprint(check_output([\"ls\", \"../input\"]).decode(\"utf8\"))",
      "execution_count": null,
      "outputs": []
    },
    {
      "metadata": {
        "_uuid": "5825972654ce0178d10e7f49c9a929c60be03440",
        "_cell_guid": "701eac69-efcc-4aa8-b0bc-f44514e16290",
        "collapsed": true,
        "trusted": false
      },
      "cell_type": "code",
      "source": "testing = False #set to false when running for output",
      "execution_count": null,
      "outputs": []
    },
    {
      "metadata": {
        "_uuid": "ffc1e41159f97c2fbb01db033005e483b0ed2653",
        "_cell_guid": "c0c28569-e267-46cf-a00c-6412351f5475",
        "collapsed": true,
        "trusted": false
      },
      "cell_type": "code",
      "source": "df_train = pd.read_table('../input/mercari-price-suggestion-challenge/train.tsv')\ndf_test = pd.read_table('../input/mercari-price-suggestion-challenge/test.tsv')",
      "execution_count": null,
      "outputs": []
    },
    {
      "metadata": {
        "_uuid": "3278c01c46a58ea28791e2af5fe04e57d4d2abac",
        "_cell_guid": "a850f793-1a7d-4fdb-b94c-3cb35a713e5f",
        "collapsed": true,
        "trusted": false
      },
      "cell_type": "code",
      "source": "#params\nNUM_BRANDS = 2000\nNUM_CAT = 1000\nMAX_FEAT = 30000\nstart_time = time.time()\nprint(strftime(\"%Y-%m-%d %H:%M:%S\", gmtime()))",
      "execution_count": null,
      "outputs": []
    },
    {
      "metadata": {
        "_uuid": "e2cbf859678821f6af7db2ef695fd25e0908cf03",
        "_cell_guid": "d13878c5-30ec-40be-a188-0d81f9c49ca2",
        "collapsed": true,
        "trusted": false
      },
      "cell_type": "code",
      "source": "df = pd.concat([df_train, df_test], 0)\nnrow_train = df_train.shape[0]\ny_train = np.log1p(df_train[\"price\"])\n\ndel df_train\n\ndf[\"category_name\"] = df[\"category_name\"].fillna(\"Other\")\ndf[\"brand_name\"] = df[\"brand_name\"].fillna(\"unknown\")\n\npop_brands = df[\"brand_name\"].value_counts().loc[lambda x: x.index != 'unknown'].index[:NUM_BRANDS]\ndf.loc[~df[\"brand_name\"].isin(pop_brands), \"brand_name\"] = \"Other\"\n\npop_cat = df['category_name'].value_counts().loc[lambda x: x.index != 'Other'].index[:NUM_CAT]\ndf.loc[~df['category_name'].isin(pop_cat), 'category_name'] = 'Other'\n\ndf[\"item_description\"] = df[\"item_description\"].fillna(\"None\")\ndf[\"item_condition_id\"] = df[\"item_condition_id\"].astype(\"category\")\ndf[\"brand_name\"] = df[\"brand_name\"].astype(\"category\")\ndf[\"category_name\"] = df[\"category_name\"].astype(\"category\")\n\ngc.collect()\nprint('[{}] Filled na'.format(time.time() - start_time))",
      "execution_count": null,
      "outputs": []
    },
    {
      "metadata": {
        "_uuid": "c77d0e86419b69ebd4cbc346625d04d4bd718877",
        "_cell_guid": "d707b830-6cfe-41ed-afca-77d67befe8e6",
        "collapsed": true,
        "trusted": false
      },
      "cell_type": "code",
      "source": "stopwords = {x: 1 for x in stopwords.words('english')}\nnon_alphanums = re.compile(u'[^A-Za-z0-9]+')\n\ndef normalize_text(text):\n    return u\" \".join(\n        [x for x in [y for y in non_alphanums.sub(' ', text).lower().strip().split(\" \")] \\\n         if len(x) > 1 and x not in stopwords])",
      "execution_count": null,
      "outputs": []
    },
    {
      "metadata": {
        "_uuid": "8bc6c59d9d218aa251427581e1e15f7f41f6f478",
        "_cell_guid": "4bbecd87-b439-469c-a0ff-c66e04efb7f0",
        "collapsed": true,
        "trusted": false
      },
      "cell_type": "code",
      "source": "wb = wordbatch.WordBatch(normalize_text, extractor=(WordBag, {\"hash_ngrams\": 2, \"hash_ngrams_weights\": [1.0, 1.0],\n                                                              \"hash_size\": 2 ** 29, \"norm\": \"l2\", \"tf\": 1.0,\n                                                              \"idf\": None})\n                        , procs=8)\nwb.dictionary_freeze= True\ndesc = wb.fit_transform(df['item_description'])\ndel(wb)\ndesc = desc[:, np.array(np.clip(desc.getnnz(axis=0) - 1, 0, 1), dtype=bool)]\nprint('[{}] Finished wordbatch'.format(time.time() - start_time))",
      "execution_count": null,
      "outputs": []
    },
    {
      "metadata": {
        "_uuid": "247c814f095ef0506d3ac7f4b9333aba8465ceb0",
        "_cell_guid": "e72972f9-3b5c-4dbe-805f-d97e70580b8c",
        "collapsed": true,
        "trusted": false
      },
      "cell_type": "code",
      "source": "#transformations\ncount = CountVectorizer(min_df=10)\nnames = count.fit_transform(df[\"name\"])\n\ncount_cat = CountVectorizer()\ncat = count_cat.fit_transform(df[\"category_name\"])\n\n# desc_tfidf = TfidfVectorizer(max_features = MAX_FEAT, \n#                               ngram_range = (1,3),\n#                               token_pattern=r'\\b\\w+\\b',\n#                               stop_words = \"english\")\n# desc = desc_tfidf.fit_transform(df[\"item_description\"])\n\nbrand_bin = LabelBinarizer(sparse_output=True)\nbrand = brand_bin.fit_transform(df[\"brand_name\"])\n\ndummies = scipy.sparse.csr_matrix(pd.get_dummies(df[[\"item_condition_id\", \"shipping\"]], sparse = True).values)\n\n\nX = scipy.sparse.hstack((dummies, \n                         brand,\n                         desc,\n                         cat,\n                         names)).tocsr()\nprint('[{}] Finished vectorization and sparse matrix stacking'.format(time.time() - start_time))",
      "execution_count": null,
      "outputs": []
    },
    {
      "metadata": {
        "_uuid": "2f690ef6bd1a6d269da20d5383a0f54ddaff5c7f",
        "_cell_guid": "b5095a44-02a3-4266-9fd7-63c557dcbe3d",
        "collapsed": true,
        "trusted": false
      },
      "cell_type": "code",
      "source": "mask = np.array(np.clip(X.getnnz(axis=0) - 1, 0, 1), dtype=bool)\nX = X[:, mask]\nX_train = X[:nrow_train]\nX_test = X[nrow_train:]",
      "execution_count": null,
      "outputs": []
    },
    {
      "metadata": {
        "_uuid": "de397f27e34461d464c6ee383066af6af29dd4d5",
        "_cell_guid": "fa0bfd3e-4771-45c5-922c-df17a4f42e7b",
        "collapsed": true,
        "trusted": false
      },
      "cell_type": "code",
      "source": "def get_rmsle(y_true, y_pred):\n    return np.sqrt(mean_squared_log_error(np.expm1(y_true), np.expm1(y_pred)))",
      "execution_count": null,
      "outputs": []
    },
    {
      "metadata": {
        "_uuid": "47f6e3c8f6b21125faca4481bd66c91513eaf7de",
        "_cell_guid": "25e85f89-aeb2-4094-af74-f9efa44d0f4c",
        "collapsed": true,
        "trusted": false
      },
      "cell_type": "code",
      "source": "# #3 fold CV ridge\nif testing:\n    results = []\n    #alphas = [0.5, 1, 1.5]\n    alphas = [1]\n    cv = KFold(n_splits=3, shuffle=True, random_state=42)\n    for a in alphas:\n        a_results = []\n        for train_ids, valid_ids in cv.split(X_train):\n            model = Ridge(\n                solver='auto',\n                fit_intercept=True,\n                alpha=a,\n                max_iter=100,\n                normalize=False,\n                tol=0.05)\n            model.fit(X_train[train_ids], y_train[train_ids])\n            y_pred_valid = model.predict(X_train[valid_ids])\n            rmsle = get_rmsle(y_pred_valid, y_train[valid_ids])\n            a_results.append(rmsle)\n        results.append(np.mean(a_results))\n        print('alpha is: %f, rmsle: %f' % (a, np.mean(a_results)))\n# #Best alpha is 1, best rmsle is 0.467923",
      "execution_count": null,
      "outputs": []
    },
    {
      "metadata": {
        "_uuid": "a1650a42b631ff9de10b54beec6419929c1be170",
        "_cell_guid": "2d8ffdac-4f47-4d32-8dfe-69e14aaad58c",
        "collapsed": true,
        "trusted": false
      },
      "cell_type": "code",
      "source": "# #lgbm cv\nif testing:\n    results = []\n    lrs = [.75,.6,.5]\n    cv = KFold(n_splits=3, shuffle=True, random_state=42)\n    for lr in lrs:\n        a_results = []\n        for train_ids, valid_ids in cv.split(X_train):\n            d_train = lgb.Dataset(X_train[train_ids], label=y_train[train_ids])\n            params = {\n                'learning_rate': lr,\n                'application': 'regression',\n                'max_depth': 3,\n                'num_leaves': 100,\n                'verbosity': -1,\n                'metric': 'RMSE',\n            }\n            model = lgb.train(params, train_set=d_train, num_boost_round=3200, verbose_eval=100)\n            y_pred_valid = model.predict(X_train[valid_ids])\n            rmsle = get_rmsle(y_pred_valid, y_train[valid_ids])\n            a_results.append(rmsle)\n        results.append(np.mean(a_results))\n        print('lr is: %f, rmsle: %f' % (lr, np.mean(a_results)))",
      "execution_count": null,
      "outputs": []
    },
    {
      "metadata": {
        "_uuid": "13802ffdfc39afe09904e52ef23966088cb36350",
        "_cell_guid": "316cc6cf-eba9-451f-bb49-a22382155a01",
        "collapsed": true,
        "trusted": false
      },
      "cell_type": "code",
      "source": "#submission\n#ridge\nmodel = Ridge(\n    solver='sag',\n    fit_intercept=True,\n    alpha=1,\n    max_iter=300,\n    normalize=False,\n    tol=0.05)\nmodel.fit(X_train, y_train)\npredsR = model.predict(X_test)\nprint('[{}] Finished Ridge'.format(time.time() - start_time))",
      "execution_count": null,
      "outputs": []
    },
    {
      "metadata": {
        "_uuid": "2b33a4425b59dcf3adcefe8e01cdef703b7b5e61",
        "_cell_guid": "10e18144-2c51-4b92-aaa5-c8a6c3c70022",
        "collapsed": true,
        "trusted": false
      },
      "cell_type": "code",
      "source": "#FTRL\nmodel = FTRL(alpha=0.01,\n             beta=0.1,\n             L1=0.00001,\n             L2=1.0,\n             D=X.shape[1],\n             iters=47,\n             inv_link=\"identity\",\n             threads=1)\nmodel.fit(X_train, y_train)\npredsF = model.predict(X_test)\nprint('[{}] Finished FTRL'.format(time.time() - start_time))",
      "execution_count": null,
      "outputs": []
    },
    {
      "metadata": {
        "_uuid": "4ab9d433266bcb815f34313eb4644f6efbba29b2",
        "_cell_guid": "372ffe31-9c33-4d42-a37e-fe165387423d",
        "collapsed": true,
        "trusted": false
      },
      "cell_type": "code",
      "source": "#FM_FTRL\nmodel = FM_FTRL(alpha=0.01,\n                beta=0.1,\n                L1=0.00001,\n                L2=0.1,\n                D=X.shape[1],\n                alpha_fm=0.01,\n                L2_fm=0.0,\n                init_fm=0.01,\n                D_fm=200,\n                e_noise=0.0001,\n                iters=18,\n                inv_link=\"identity\",\n                threads=4)\nmodel.fit(X_train, y_train)\npredsFM = model.predict(X_test)\nprint('[{}] Finished FM_FTRL'.format(time.time() - start_time))",
      "execution_count": null,
      "outputs": []
    },
    {
      "metadata": {
        "_uuid": "e26e571d69f395e48058eabf50cc8c41c818c426",
        "_cell_guid": "d47dd79e-3dac-4900-b872-71331f4211c7",
        "collapsed": true,
        "trusted": false
      },
      "cell_type": "code",
      "source": "#lgbm\nmask = np.array(np.clip(X.getnnz(axis=0) - 100, 0, 1), dtype=bool)\nX = X[:, mask]\nX_train = X[:nrow_train]\nX_test = X[nrow_train:]\nd_train = lgb.Dataset(X_train, label=y_train)\nparams = {\n    'learning_rate': 0.57,\n    'application': 'regression',\n    'max_depth': 5,\n    'num_leaves': 31,\n    'verbosity': -1,\n    'metric': 'RMSE',\n    'data_random_seed': 1,\n    'bagging_fraction': 0.6,\n    'bagging_freq': 5,\n    'feature_fraction': 0.65,\n    'nthread': 4,\n    'min_data_in_leaf': 100,\n    'max_bin': 31\n}\nmodel_lg = lgb.train(params,\n                     train_set=d_train,\n                     num_boost_round=4500,\n                     early_stopping_rounds=1000,\n                     valid_sets=d_train,\n                     verbose_eval=1000)\npredsL = model_lg.predict(X_test)\nprint('[{}] Finished LGBM'.format(time.time() - start_time))",
      "execution_count": null,
      "outputs": []
    },
    {
      "metadata": {
        "_uuid": "d9b279fa9bf37974f61fe7860153fdbd056502e1",
        "_cell_guid": "309dd9cf-26f4-4df1-9f0a-329ffd499300",
        "collapsed": true,
        "trusted": false
      },
      "cell_type": "code",
      "source": "#weights\nr_w = .05\nl_w = .22\nf_w = .05\nfm_w = .68\n#preds = l_w*predsL + f_w*predsF + fm_w*predsFM\npreds = r_w*predsR +l_w*predsL + f_w*predsF + fm_w*predsFM\npreds = np.expm1(preds)",
      "execution_count": null,
      "outputs": []
    },
    {
      "metadata": {
        "_uuid": "f5ad210764e81e1a9f2cd239b6bade94b29fcd48",
        "_cell_guid": "97a8d824-1a25-4697-b97e-3f44dcba35e9",
        "collapsed": true,
        "trusted": false
      },
      "cell_type": "code",
      "source": "out = pd.DataFrame({'test_id':df_test.test_id,'price':preds})\nout.to_csv('preds.csv', index=False)\nprint('[{}] Wrote predictions'.format(time.time() - start_time))",
      "execution_count": null,
      "outputs": []
    }
  ],
  "metadata": {
    "kernelspec": {
      "display_name": "Python 3",
      "language": "python",
      "name": "python3"
    },
    "language_info": {
      "file_extension": ".py",
      "name": "python",
      "pygments_lexer": "ipython3",
      "mimetype": "text/x-python",
      "version": "3.6.4",
      "codemirror_mode": {
        "name": "ipython",
        "version": 3
      },
      "nbconvert_exporter": "python"
    }
  },
  "nbformat": 4,
  "nbformat_minor": 1
}